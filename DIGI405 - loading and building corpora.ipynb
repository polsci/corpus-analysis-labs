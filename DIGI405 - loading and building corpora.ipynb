{
 "cells": [
  {
   "cell_type": "markdown",
   "id": "2e27f642",
   "metadata": {},
   "source": [
    "# Loading and building corpora\n",
    "\n",
    "This notebook demonstrates loading and building corpora with Conc. You can use this notebook to get started analysing a corpus with Conc. \n",
    "\n",
    "## Conc setup\n",
    "\n",
    "Note for DIGI405 students: if you are working on the JupyterHub server for the course, you don't need to install conc. Conc's documentation website has a page explaining [how to install Conc](https://geoffford.nz/conc/tutorials/install.html). Another helpful page is the [Conc recipes page](https://geoffford.nz/conc/tutorials/recipes.html), which features lots of code examples."
   ]
  },
  {
   "cell_type": "markdown",
   "id": "d450a64d",
   "metadata": {},
   "source": [
    "## Import functionality to load/build and start working with corpora"
   ]
  },
  {
   "cell_type": "code",
   "execution_count": null,
   "id": "cd39f7a7",
   "metadata": {},
   "outputs": [],
   "source": [
    "from conc.corpus import Corpus\n",
    "from conc.listcorpus import ListCorpus\n",
    "from conc.conc import Conc\n",
    "from conc.corpora import list_corpora"
   ]
  },
  {
   "cell_type": "markdown",
   "id": "592aef59",
   "metadata": {},
   "source": [
    "## Set paths\n",
    "\n",
    "Set the paths below to where you store source data (`source_path`) and where you store the processed corpora (`save_path`). "
   ]
  },
  {
   "cell_type": "code",
   "execution_count": null,
   "id": "630a7f1b",
   "metadata": {},
   "outputs": [],
   "source": [
    "source_path = f'/srv/source-data/' # path to the source data from which the corpus will be created\n",
    "save_path = f'/srv/corpora/' # path to the directory where corpora are stored"
   ]
  },
  {
   "cell_type": "markdown",
   "id": "1fcadd76",
   "metadata": {},
   "source": [
    "## Building a corpus\n",
    "\n",
    "The Conc documentation site provides some [basic recipes for building corpora](https://geoffford.nz/conc/tutorials/recipes.html#building-or-loading-a-corpus-for-analysis). You can build Conc corpora from CSV files (.csv or .csv.gz) and from text files (either a directory of text files or a .zip or .tar.gz archive of text files).\n",
    "\n",
    "Note for DIGI405 students: if you are building a corpus for use in assignments or your own research, you will need to use a `source_path` and `save_path` that is in your home directory on the JupyterHub server. You can use use relative paths, e.g. `source_path = 'data/'` and `save_path = 'corpora/'`, to use a directory in the same folder as your notebook."
   ]
  },
  {
   "cell_type": "markdown",
   "id": "f21b6cad",
   "metadata": {},
   "source": [
    "## Building a lightweight corpus representation for use as a reference corpus (i.e. a list corpus)\n",
    "\n",
    "Conc provides a way to create a lightweight corpus representation suitable for use as a reference corpus for analysis of keywords. The Conc documentation site provides some [basic recipes for building list corpora](https://geoffford.nz/conc/tutorials/recipes.html#building-and-loading-a-lightweight-corpus-representation-list-corpus-for-use-as-a-reference-corpus). To create a list corpus, you need to first build a Conc corpus. The recipe provides an example of how to convert a Conc corpus to a list corpus. "
   ]
  },
  {
   "cell_type": "markdown",
   "id": "6064d90c",
   "metadata": {},
   "source": [
    "## Loading a corpus or list corpus"
   ]
  },
  {
   "cell_type": "markdown",
   "id": "1e9fc390",
   "metadata": {},
   "source": [
    "Conc corpora are stored in a directory ending with `.corpus`. Locate the directory for the corpus you want to load. In this case, I want to load the Brown corpus which is in a directory wihin `save_path` called `brown.corpus`. You can load it like this:"
   ]
  },
  {
   "cell_type": "code",
   "execution_count": null,
   "id": "124ba011",
   "metadata": {},
   "outputs": [],
   "source": [
    "corpus = Corpus().load(f'{save_path}brown.corpus')"
   ]
  },
  {
   "cell_type": "markdown",
   "id": "7372294c",
   "metadata": {},
   "source": [
    "You don't have to use `corpus` for the variable name. It may be helpful to use a more descriptive name if you are working with multiple corpora (e.g. `brown_corpus`)"
   ]
  },
  {
   "cell_type": "markdown",
   "id": "c701f495",
   "metadata": {},
   "source": [
    "It isn't necessary, but it is can be helpful to view a summary of the corpus you have loaded. "
   ]
  },
  {
   "cell_type": "code",
   "execution_count": null,
   "id": "693d1a60",
   "metadata": {},
   "outputs": [],
   "source": [
    "corpus.summary()"
   ]
  },
  {
   "cell_type": "markdown",
   "id": "6662f6f3",
   "metadata": {},
   "source": [
    "Conc's list corpus format are stored in a directory ending with `.listcorpus`. As in the example above, locate the desired list corpus directory. In this case, it is the Baby BNC in `baby-bnc.listcorpus`. Load it like this:"
   ]
  },
  {
   "cell_type": "code",
   "execution_count": null,
   "id": "3e100d55",
   "metadata": {},
   "outputs": [],
   "source": [
    "listcorpus = ListCorpus().load(f'{save_path}baby-bnc.listcorpus')"
   ]
  },
  {
   "cell_type": "markdown",
   "id": "04070646",
   "metadata": {},
   "source": [
    "You don't have to use `listcorpus` for the variable name. It may be helpful to use a more descriptive name if you are working with multiple corpora (e.g. `babybnc_listcorpus`)"
   ]
  },
  {
   "cell_type": "markdown",
   "id": "5a41d50b",
   "metadata": {},
   "source": [
    "As above, get basic information about the list corpus you have loaded:"
   ]
  },
  {
   "cell_type": "code",
   "execution_count": null,
   "id": "90f4e106",
   "metadata": {},
   "outputs": [],
   "source": [
    "listcorpus.summary()"
   ]
  },
  {
   "cell_type": "markdown",
   "id": "10825907",
   "metadata": {},
   "source": [
    "## List available corpora\n",
    "\n",
    "To view corpora available at `save_path`, run ..."
   ]
  },
  {
   "cell_type": "code",
   "execution_count": null,
   "id": "2bb0de48",
   "metadata": {},
   "outputs": [],
   "source": [
    "list_corpora(save_path) "
   ]
  },
  {
   "cell_type": "markdown",
   "id": "3fe57949",
   "metadata": {},
   "source": [
    "The corpus column provides the name of the directory containing the corpus. You can use this name and the information above to load the corpus (or list corpus). "
   ]
  },
  {
   "cell_type": "markdown",
   "id": "a68c51b0",
   "metadata": {},
   "source": [
    "Note for DIGI405 students: the corpora you need for labs and assignments (and some other corpora) are available on the JupyterHub server. Use the `list_corpora` function to view the available corpora and get the corpus directory name needed to load the corpora for analysis. "
   ]
  },
  {
   "cell_type": "markdown",
   "id": "b98d1ccc",
   "metadata": {},
   "source": [
    "## Prepare to analyse the corpus\n",
    "\n",
    "Conc's reporting functionality is prepared as follows:"
   ]
  },
  {
   "cell_type": "code",
   "execution_count": null,
   "id": "9f2f53be",
   "metadata": {},
   "outputs": [],
   "source": [
    "conc = Conc(corpus)"
   ]
  },
  {
   "cell_type": "markdown",
   "id": "ad6003c6",
   "metadata": {},
   "source": [
    "You can use another variable name for `conc`. Use the appropriate variable name for the corpus you used when you loaded it. \n",
    "\n",
    "Note: you can only load a Conc corpus for analysis. You cannot load a list corpus in this way. "
   ]
  },
  {
   "cell_type": "markdown",
   "id": "e4737575",
   "metadata": {},
   "source": [
    "## Set a reference corpus for keyword analysis\n",
    "\n",
    "If you plan to analyse keywords, you will need to set a reference corpus like this:"
   ]
  },
  {
   "cell_type": "code",
   "execution_count": null,
   "id": "2dd55b54",
   "metadata": {},
   "outputs": [],
   "source": [
    "conc.set_reference_corpus(listcorpus)"
   ]
  },
  {
   "cell_type": "markdown",
   "id": "b1a26a47",
   "metadata": {},
   "source": [
    "In this case, I am using a list corpus, but the reference corpus can be a Conc corpus as well. Again, if you loaded your reference corpus with a different variable name, use that!"
   ]
  },
  {
   "cell_type": "markdown",
   "id": "aacba248",
   "metadata": {},
   "source": [
    "## Next steps ...\n",
    "\n",
    "Right, that should be enough to get you started. The lab notebooks provide information on different Conc functionality relevant to analysis. You can also find more information and [examples](https://geoffford.nz/conc/tutorials/recipes.html#reports-for-corpus-analysis) by looking over the [Conc documentation site](https://geoffford.nz/conc/)."
   ]
  }
 ],
 "metadata": {
  "kernelspec": {
   "display_name": "conc",
   "language": "python",
   "name": "python3"
  },
  "language_info": {
   "codemirror_mode": {
    "name": "ipython",
    "version": 3
   },
   "file_extension": ".py",
   "mimetype": "text/x-python",
   "name": "python",
   "nbconvert_exporter": "python",
   "pygments_lexer": "ipython3",
   "version": "3.11.13"
  }
 },
 "nbformat": 4,
 "nbformat_minor": 5
}
