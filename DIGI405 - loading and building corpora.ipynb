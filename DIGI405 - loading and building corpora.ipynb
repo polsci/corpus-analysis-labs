{
 "cells": [
  {
   "cell_type": "markdown",
   "id": "2e27f642",
   "metadata": {},
   "source": [
    "# Loading and building corpora\n",
    "\n",
    "A notebook to demonstrate loading and building corpora. "
   ]
  },
  {
   "cell_type": "code",
   "execution_count": null,
   "id": "cd39f7a7",
   "metadata": {},
   "outputs": [],
   "source": [
    "from conc.corpus import Corpus\n",
    "from conc.listcorpus import ListCorpus\n",
    "from conc.conc import Conc\n",
    "from conc.corpora import list_corpora"
   ]
  },
  {
   "cell_type": "code",
   "execution_count": null,
   "id": "630a7f1b",
   "metadata": {},
   "outputs": [],
   "source": [
    "source_path = f'/srv/source-data/' # path to the source data from which the corpus will be created\n",
    "save_path = f'/srv/corpora/' # path to the directory where corpora are stored"
   ]
  },
  {
   "cell_type": "markdown",
   "id": "10825907",
   "metadata": {},
   "source": [
    "View available corpora at `save_path`:"
   ]
  },
  {
   "cell_type": "code",
   "execution_count": null,
   "id": "2bb0de48",
   "metadata": {},
   "outputs": [],
   "source": [
    "list_corpora(save_path) "
   ]
  },
  {
   "cell_type": "markdown",
   "id": "1fcadd76",
   "metadata": {},
   "source": [
    "In development ..."
   ]
  },
  {
   "cell_type": "code",
   "execution_count": null,
   "id": "6064d90c",
   "metadata": {},
   "outputs": [],
   "source": []
  }
 ],
 "metadata": {
  "kernelspec": {
   "display_name": "conc",
   "language": "python",
   "name": "python3"
  },
  "language_info": {
   "codemirror_mode": {
    "name": "ipython",
    "version": 3
   },
   "file_extension": ".py",
   "mimetype": "text/x-python",
   "name": "python",
   "nbconvert_exporter": "python",
   "pygments_lexer": "ipython3",
   "version": "3.11.13"
  }
 },
 "nbformat": 4,
 "nbformat_minor": 5
}
